{
 "cells": [
  {
   "cell_type": "code",
   "execution_count": 1,
   "metadata": {},
   "outputs": [],
   "source": [
    "import matplotlib.pyplot as plt\n",
    "import pandas as pd\n",
    "import numpy as np"
   ]
  },
  {
   "cell_type": "code",
   "execution_count": 2,
   "metadata": {},
   "outputs": [
    {
     "name": "stdout",
     "output_type": "stream",
     "text": [
      "(2000, 25)\n"
     ]
    }
   ],
   "source": [
    "#### Read in movie_genres.csv\n",
    "movie_genre_df = pd.read_csv(\"movie_genres.csv\", header=None, on_bad_lines='skip')\n",
    "movie_genre_df.fillna(0, inplace=True)\n",
    "\n",
    "movie_titles = []\n",
    "movie_features = []\n",
    "\n",
    "for i in range(1, movie_genre_df.shape[0]):\n",
    "    movie_titles.append(movie_genre_df.iloc[i, 1])\n",
    "\n",
    "for i in range(2, movie_genre_df.shape[1]):\n",
    "    movie_features.append(movie_genre_df.iloc[0, i])\n",
    "\n",
    "movie_genre_array = movie_genre_df.iloc[1:, 2:].to_numpy().astype(int)\n",
    "print(movie_genre_array.shape)"
   ]
  },
  {
   "cell_type": "code",
   "execution_count": 3,
   "metadata": {},
   "outputs": [
    {
     "name": "stdout",
     "output_type": "stream",
     "text": [
      "(600, 2000)\n"
     ]
    }
   ],
   "source": [
    "### Read in user_reviews.csv\n",
    "user_review_df = pd.read_csv(\"user_reviews.csv\", header=None, on_bad_lines='skip', low_memory=False)\n",
    "user_review_df.fillna(0, inplace=True)\n",
    "user_names = []\n",
    "\n",
    "for i in range(1, user_review_df.shape[0]):\n",
    "    user_names.append(user_review_df.iloc[i, 1])\n",
    "\n",
    "user_review_df = user_review_df.iloc[1:, 2:].astype(float)\n",
    "user_review_array = user_review_df.to_numpy().astype(int)\n",
    "print(user_review_array.shape)"
   ]
  },
  {
   "cell_type": "code",
   "execution_count": 4,
   "metadata": {},
   "outputs": [
    {
     "name": "stdout",
     "output_type": "stream",
     "text": [
      "Average rating: 3.434069591527988\n",
      "Percentage of reviews: 1.3770833333333334 %\n"
     ]
    }
   ],
   "source": [
    "reviews_dict = {1:0, 2:0, 3:0, 4:0, 5:0}\n",
    "n_reviews = 0\n",
    "total_reviews = len(user_names) * len(movie_titles)\n",
    "\n",
    "for row in range(user_review_array.shape[0]):\n",
    "    for col in range(user_review_array.shape[1]):\n",
    "        if user_review_array[row, col] in reviews_dict:\n",
    "            reviews_dict[user_review_array[row, col]] += 1\n",
    "            n_reviews += 1\n",
    "        \n",
    "average_rating = sum(i * reviews_dict[i] for i in range(1, 6)) / n_reviews\n",
    "print(\"Average rating: \" + str(average_rating))\n",
    "print(\"Percentage of reviews: \" + str(100* n_reviews / total_reviews) + \" %\")"
   ]
  },
  {
   "cell_type": "code",
   "execution_count": 5,
   "metadata": {},
   "outputs": [],
   "source": [
    "def get_avg_user_rating(matrix):\n",
    "    avg_user_rating = []\n",
    "    for row in range(matrix.shape[0]):\n",
    "        n_entries = 0\n",
    "        sum_ratings = 0\n",
    "        for col in range(matrix.shape[1]):\n",
    "            if matrix[row, col] !=0:\n",
    "                n_entries += 1\n",
    "                sum_ratings += matrix[row, col]\n",
    "        avg_user_rating.append(float(sum_ratings / n_entries))\n",
    "    return avg_user_rating\n",
    "\n",
    "def normalize_mean_zero(A, user_means):\n",
    "    A = A.astype(float) \n",
    "    for row in range(A.shape[0]):\n",
    "        A[row, A[row, :] != 0] -= user_means[row]\n",
    "    return A"
   ]
  },
  {
   "cell_type": "code",
   "execution_count": 6,
   "metadata": {},
   "outputs": [
    {
     "name": "stdout",
     "output_type": "stream",
     "text": [
      "The Magic Sword: Quest for Camelot - Rating: 5\n",
      "Veronica Guerin - Rating: 3\n",
      "The Pursuit of D.B. Cooper - Rating: 2\n",
      "The Purge: Anarchy - Rating: 2\n",
      "Knight and Day - Rating: 4\n",
      "Neighbors - Rating: 5\n",
      "The Frozen - Rating: 4\n",
      "2:13 - Rating: 3\n",
      "Jonah: A VeggieTales Movie - Rating: 5\n",
      "Dirty Work - Rating: 5\n",
      "The Masked Saint - Rating: 3\n",
      "Snow White: A Tale of Terror - Rating: 3\n",
      "Jersey Girl - Rating: 4\n",
      "Bend It Like Beckham - Rating: 4\n",
      "Up Close & Personal - Rating: 3\n",
      "Friday the 13th Part VII: The New Blood - Rating: 3\n",
      "Get Hard - Rating: 4\n",
      "8MM - Rating: 2\n",
      "I, Frankenstein - Rating: 3\n",
      "That Thing You Do! - Rating: 5\n",
      "Dysfunctional Friends - Rating: 4\n",
      "The Secret Life of Walter Mitty - Rating: 4\n",
      "Idiocracy - Rating: 4\n",
      "The Knife of Don Juan - Rating: 5\n",
      "No Vacancy - Rating: 2\n",
      "Team America: World Police - Rating: 5\n",
      "Bedtime Stories - Rating: 5\n",
      "A Sound of Thunder - Rating: 4\n",
      "The Big Wedding - Rating: 3\n",
      "The Replacements - Rating: 3\n",
      "From Paris with Love - Rating: 2\n",
      "The Informant! - Rating: 4\n",
      "Danny Collins - Rating: 5\n",
      "Lilyhammer - Rating: 5\n",
      "ATL - Rating: 5\n",
      "Dreamcatcher - Rating: 2\n"
     ]
    }
   ],
   "source": [
    "# Seen movies\n",
    "user_id = 2\n",
    "seen_movies = np.where(user_review_array[user_id] != 0)[0]\n",
    "seen_movie_ratings = user_review_array[user_id, seen_movies]\n",
    "\n",
    "for i, movie_index in enumerate(seen_movies):\n",
    "    print(f\"{movie_titles[movie_index]} - Rating: {seen_movie_ratings[i]}\")"
   ]
  },
  {
   "cell_type": "code",
   "execution_count": 7,
   "metadata": {},
   "outputs": [
    {
     "name": "stdout",
     "output_type": "stream",
     "text": [
      "Vincent\n",
      "Recommendation 1: The Sweet Hereafter\n",
      "Recommendation 2: 88 Minutes\n",
      "Recommendation 3: The Pallbearer\n",
      "Recommendation 4: The Adventures of Sharkboy and Lavagirl 3-D\n",
      "Recommendation 5: Slumdog Millionaire\n",
      "Edgar\n",
      "Recommendation 1: Minions\n",
      "Recommendation 2: Domestic Disturbance\n",
      "Recommendation 3: Hollywood Ending\n",
      "Recommendation 4: 12 Rounds\n",
      "Recommendation 5: Western Religion\n",
      "Addilyn\n",
      "Recommendation 1: Glory Road\n",
      "Recommendation 2: Herbie Fully Loaded\n",
      "Recommendation 3: The Last Song\n",
      "Recommendation 4: Beverly Hills Chihuahua\n",
      "Recommendation 5: Dracula 2000\n",
      "Marlee\n",
      "Recommendation 1: The Net\n",
      "Recommendation 2: The Californians\n",
      "Recommendation 3: My Boss's Daughter\n",
      "Recommendation 4: White Fang\n",
      "Recommendation 5: Fantasia\n",
      "Javier\n",
      "Recommendation 1: Raging Bull\n",
      "Recommendation 2: Homefront\n",
      "Recommendation 3: Van Wilder: Party Liaison\n",
      "Recommendation 4: Monsoon Wedding\n",
      "Recommendation 5: Don McKay\n"
     ]
    }
   ],
   "source": [
    "######## Content Filtering\n",
    "average_user_ratings = get_avg_user_rating(user_review_array)\n",
    "normalized_array = normalize_mean_zero(user_review_array.copy(), average_user_ratings)\n",
    "genre_scores = normalized_array @ movie_genre_array\n",
    "\n",
    "def get_top_n_content_filtering(user, n_top):\n",
    "    predicted_genre = genre_scores[user]\n",
    "\n",
    "    unrated_movies = np.where(normalized_array[user] == 0.0)[0]\n",
    "\n",
    "    movie_genre_scores = movie_genre_array[unrated_movies] # access is rows since its an array...\n",
    "\n",
    "    predicted_ratings = movie_genre_scores @ predicted_genre.T \n",
    "\n",
    "    top_movies_index = np.argsort(predicted_ratings, kind='mergesort')[::-1]\n",
    "\n",
    "    return top_movies_index[:n_top]\n",
    "\n",
    "users = [0,1,2,3,4]\n",
    "\n",
    "movie_titles = movie_genre_df.iloc[1:, 1].tolist()\n",
    "for user in users:\n",
    "    top_for_user = get_top_n_content_filtering(user, 5)\n",
    "    \n",
    "    \n",
    "    print(user_names[user])\n",
    "    for i, movie_id in enumerate(top_for_user):\n",
    "        if movie_id < len(movie_titles):\n",
    "\n",
    "            print(\"Recommendation \" + str(i+1) + \": \" +  movie_titles[movie_id])"
   ]
  },
  {
   "cell_type": "code",
   "execution_count": 8,
   "metadata": {},
   "outputs": [],
   "source": [
    "### Collaborative filtering using matrix factorization and Alternating least Squares begins here\n",
    "\n",
    "def objective_value_MF(A, U, V, reg):\n",
    "    tot_sum = 0\n",
    "\n",
    "    for i in range(A.shape[0]):\n",
    "        for j in range(A.shape[1]):\n",
    "            if A[i, j] != 0:  \n",
    "                tot_sum += (A[i, j] - np.dot(U[i], V[j])) ** 2\n",
    "    \n",
    "    tot_sum += reg * (np.sum(U ** 2) + np.sum(V ** 2))\n",
    "\n",
    "    return tot_sum\n",
    "\n",
    "def evaluate_rmse(A, predict_A):\n",
    "    n_reviews = 0\n",
    "    sum_squared_error = 0\n",
    "\n",
    "    for row in range(A.shape[0]):\n",
    "        for col in range(A.shape[1]):\n",
    "            if A[row, col] != 0:  \n",
    "                n_reviews += 1\n",
    "                sum_squared_error += (A[row, col] - predict_A[row, col]) ** 2\n",
    "\n",
    "    return np.sqrt(sum_squared_error / n_reviews)  \n",
    "\n",
    "def matrix_factorization_ALS(A, U, V, reg, iterations):\n",
    "    n_users = A.shape[0]\n",
    "    n_movies = A.shape[1]\n",
    "    dim = U.shape[1]\n",
    "    objective_values = []\n",
    "    errors = []\n",
    "\n",
    "    for _ in range(iterations):\n",
    "        for user_index in range(n_users):\n",
    "            rated_movies = np.where(A[user_index, :] != 0)[0] \n",
    "            V_rated = V[rated_movies] \n",
    "\n",
    "            inverse = np.linalg.inv(V_rated.T @ V_rated + reg * np.identity(dim))\n",
    "            result = inverse @ V_rated.T @ A[user_index, rated_movies]\n",
    "            U[user_index] = result\n",
    "            \n",
    "        for movie_index in range(n_movies):\n",
    "            rated_users = np.where(A[:, movie_index] != 0)[0]\n",
    "            U_rated = U[rated_users]  \n",
    "\n",
    "            inverse = np.linalg.inv(U_rated.T @ U_rated + reg * np.identity(dim))\n",
    "            result = inverse @ U_rated.T @ A[rated_users, movie_index]\n",
    "            V[movie_index] = result\n",
    "\n",
    "        objective_values.append(objective_value_MF(A, U, V, reg))\n",
    "        errors.append(evaluate_rmse(A, U @ V.T))\n",
    "\n",
    "    Y_predict = U @ V.T\n",
    "    return Y_predict, objective_values, errors"
   ]
  },
  {
   "cell_type": "code",
   "execution_count": 9,
   "metadata": {},
   "outputs": [],
   "source": [
    "# A: user reviews imported earlier\n",
    "# U: embedding matrix where each row is a user, times dimension d\n",
    "# V: embedding matrix where each row is a product, time a dimension d\n",
    "\n",
    "np.random.seed(10) \n",
    "\n",
    "### Hyper-parameters\n",
    "reg = 1\n",
    "embedded_dimensions = [40, 50]\n",
    "iterations = 150\n",
    "\n",
    "A = normalize_mean_zero(user_review_array.copy(), average_user_ratings)\n",
    "\n",
    "results = {}\n",
    "\n",
    "results[reg] = {\"errors\": [], \"objectives\": [], \"final_rmse\": []}\n",
    "\n",
    "for dim in embedded_dimensions:\n",
    "    U = np.random.normal(loc=0, scale=0.1, size=(A.shape[0], dim))\n",
    "    V = np.random.normal(loc=0, scale=0.1, size=(A.shape[1], dim))\n",
    "    Y_predict, objectives, errors = matrix_factorization_ALS(A.copy(), U.copy(), V.copy(), reg, iterations)\n",
    "    average_user_ratings = np.array(average_user_ratings)\n",
    "    Y_predict += average_user_ratings[:, np.newaxis]\n",
    "    final_rmse = evaluate_rmse(user_review_array, Y_predict)\n",
    "\n",
    "    results[reg][\"errors\"].append(errors)\n",
    "    results[reg][\"objectives\"].append(objectives)\n",
    "    results[reg][\"final_rmse\"].append(final_rmse)"
   ]
  },
  {
   "cell_type": "code",
   "execution_count": 10,
   "metadata": {},
   "outputs": [
    {
     "ename": "NameError",
     "evalue": "name 'embedded_dimensions' is not defined",
     "output_type": "error",
     "traceback": [
      "\u001b[0;31m---------------------------------------------------------------------------\u001b[0m",
      "\u001b[0;31mNameError\u001b[0m                                 Traceback (most recent call last)",
      "Cell \u001b[0;32mIn[10], line 3\u001b[0m\n\u001b[1;32m      1\u001b[0m \u001b[38;5;66;03m## plotting code\u001b[39;00m\n\u001b[1;32m      2\u001b[0m plt\u001b[38;5;241m.\u001b[39mfigure(figsize\u001b[38;5;241m=\u001b[39m(\u001b[38;5;241m8\u001b[39m, \u001b[38;5;241m6\u001b[39m))\n\u001b[0;32m----> 3\u001b[0m \u001b[38;5;28;01mfor\u001b[39;00m i, dim \u001b[38;5;129;01min\u001b[39;00m \u001b[38;5;28menumerate\u001b[39m(\u001b[43membedded_dimensions\u001b[49m):\n\u001b[1;32m      4\u001b[0m     plt\u001b[38;5;241m.\u001b[39mplot(results[reg][\u001b[38;5;124m\"\u001b[39m\u001b[38;5;124merrors\u001b[39m\u001b[38;5;124m\"\u001b[39m][i], label\u001b[38;5;241m=\u001b[39m\u001b[38;5;124mf\u001b[39m\u001b[38;5;124m\"\u001b[39m\u001b[38;5;124mDim: \u001b[39m\u001b[38;5;132;01m{\u001b[39;00mdim\u001b[38;5;132;01m}\u001b[39;00m\u001b[38;5;124m, Final RMSE: \u001b[39m\u001b[38;5;132;01m{\u001b[39;00mresults[reg][\u001b[38;5;124m'\u001b[39m\u001b[38;5;124mfinal_rmse\u001b[39m\u001b[38;5;124m'\u001b[39m][i]\u001b[38;5;132;01m:\u001b[39;00m\u001b[38;5;124m.4f\u001b[39m\u001b[38;5;132;01m}\u001b[39;00m\u001b[38;5;124m\"\u001b[39m)\n\u001b[1;32m      5\u001b[0m plt\u001b[38;5;241m.\u001b[39mxlabel(\u001b[38;5;124m\"\u001b[39m\u001b[38;5;124mIterations\u001b[39m\u001b[38;5;124m\"\u001b[39m)\n",
      "\u001b[0;31mNameError\u001b[0m: name 'embedded_dimensions' is not defined"
     ]
    },
    {
     "data": {
      "text/plain": [
       "<Figure size 800x600 with 0 Axes>"
      ]
     },
     "metadata": {},
     "output_type": "display_data"
    }
   ],
   "source": [
    "## plotting code\n",
    "plt.figure(figsize=(8, 6))\n",
    "for i, dim in enumerate(embedded_dimensions):\n",
    "    plt.plot(results[reg][\"errors\"][i], label=f\"Dim: {dim}, Final RMSE: {results[reg]['final_rmse'][i]:.4f}\")\n",
    "plt.xlabel(\"Iterations\")\n",
    "plt.ylabel(\"RMSE\")\n",
    "plt.title(f\"Regularizer: {reg} - RMSE Convergence\")\n",
    "plt.legend()\n",
    "plt.show()\n",
    "\n",
    "plt.figure(figsize=(8, 6))\n",
    "for i, dim in enumerate(embedded_dimensions):\n",
    "    plt.plot(results[reg][\"objectives\"][i], label=f\"Dim: {dim}, Final RMSE: {results[reg]['final_rmse'][i]:.4f}\")\n",
    "plt.xlabel(\"Iterations\")\n",
    "plt.ylabel(\"Objective Value\")\n",
    "plt.title(f\"Regularizer: {reg} - Objective Value Convergence\")\n",
    "plt.legend()\n",
    "plt.show()"
   ]
  },
  {
   "cell_type": "code",
   "execution_count": 12,
   "metadata": {},
   "outputs": [],
   "source": [
    "np.random.seed(10)\n",
    "\n",
    "regularizer = 1\n",
    "embedding_dimension = 40\n",
    "iterations = 150\n",
    "\n",
    "A = normalize_mean_zero(user_review_array.copy(), average_user_ratings)\n",
    "\n",
    "U = np.random.normal(loc=0, scale=0.1, size=(A.shape[0], embedding_dimension))\n",
    "V = np.random.normal(loc=0, scale=0.1, size=(A.shape[1], embedding_dimension))\n",
    "\n",
    "Y_predict, objectives, errors = matrix_factorization_ALS(A, U, V, regularizer, iterations)\n",
    "average_user_ratings = np.array(average_user_ratings)\n",
    "Y_predict += np.mean(user_review_array, axis=1, keepdims=True)"
   ]
  },
  {
   "cell_type": "code",
   "execution_count": 13,
   "metadata": {},
   "outputs": [
    {
     "name": "stdout",
     "output_type": "stream",
     "text": [
      "Vincent recommendation 1 is The Heart of Me. \n",
      "Vincent recommendation 2 is Splice. \n",
      "Vincent recommendation 3 is Alpha and Omega 4: The Legend of the Saw Toothed Cave. \n",
      "Vincent recommendation 4 is Go for It!. \n",
      "Vincent recommendation 5 is Battle of the Year. \n",
      "Edgar recommendation 1 is Sweet Charity. \n",
      "Edgar recommendation 2 is Judgment at Nuremberg. \n",
      "Edgar recommendation 3 is Deadline Gallipoli. \n",
      "Edgar recommendation 4 is The Adventures of Tintin. \n",
      "Edgar recommendation 5 is Cinderella. \n",
      "Addilyn recommendation 1 is Lords of Dogtown. \n",
      "Addilyn recommendation 2 is Brazil. \n",
      "Addilyn recommendation 3 is Maid in Manhattan. \n",
      "Addilyn recommendation 4 is Fiddler on the Roof. \n",
      "Addilyn recommendation 5 is The Life Before Her Eyes. \n",
      "Marlee recommendation 1 is A Sound of Thunder. \n",
      "Marlee recommendation 2 is Red Sky. \n",
      "Marlee recommendation 3 is World War Z. \n",
      "Marlee recommendation 4 is The Astronaut's Wife. \n",
      "Marlee recommendation 5 is Marmaduke. \n",
      "Javier recommendation 1 is Not Another Teen Movie. \n",
      "Javier recommendation 2 is Frozen. \n",
      "Javier recommendation 3 is Unbroken. \n",
      "Javier recommendation 4 is Nothing. \n",
      "Javier recommendation 5 is Superman IV: The Quest for Peace. \n"
     ]
    }
   ],
   "source": [
    "users = [0, 1, 2, 3, 4]\n",
    "\n",
    "for user in users:\n",
    "    top_for_user = Y_predict[user].copy()  \n",
    "    watched_movies = np.where(A[user] != 0)[0] \n",
    "    top_for_user[watched_movies] = -np.inf  # the seen movies gets really low score\n",
    "    top_movies_index = np.argsort(top_for_user, kind='mergesort')[-5:][::-1]\n",
    "    \n",
    "    for i in range(len(top_movies_index)):\n",
    "        print(user_names[user] + \" recommendation \" + str(i+1) + \" is \" + movie_titles[top_movies_index[i]] + \". \")"
   ]
  }
 ],
 "metadata": {
  "kernelspec": {
   "display_name": "myenv",
   "language": "python",
   "name": "python3"
  },
  "language_info": {
   "codemirror_mode": {
    "name": "ipython",
    "version": 3
   },
   "file_extension": ".py",
   "mimetype": "text/x-python",
   "name": "python",
   "nbconvert_exporter": "python",
   "pygments_lexer": "ipython3",
   "version": "3.13.1"
  }
 },
 "nbformat": 4,
 "nbformat_minor": 2
}
